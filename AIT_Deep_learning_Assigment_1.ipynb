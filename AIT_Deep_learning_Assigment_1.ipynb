{
  "nbformat": 4,
  "nbformat_minor": 0,
  "metadata": {
    "kernelspec": {
      "display_name": "Python 3",
      "language": "python",
      "name": "python3"
    },
    "language_info": {
      "codemirror_mode": {
        "name": "ipython",
        "version": 3
      },
      "file_extension": ".py",
      "mimetype": "text/x-python",
      "name": "python",
      "nbconvert_exporter": "python",
      "pygments_lexer": "ipython3",
      "version": "3.6.6"
    },
    "colab": {
      "name": "AIT-Deep-learning-Assigment-1",
      "provenance": [],
      "collapsed_sections": []
    }
  },
  "cells": [
    {
      "cell_type": "markdown",
      "metadata": {
        "id": "_jiGtJu6u9ml"
      },
      "source": [
        "# Copyright\n",
        "\n",
        "<PRE>\n",
        "Copyright (c) 2020 Bálint Gyires-Tóth - All Rights Reserved\n",
        "You may use and modify this code for research and development purpuses.\n",
        "Use this code for educational purposes (self-paced or instructor led) without the permission of the author is prohibited.\n",
        "</PRE>"
      ]
    },
    {
      "cell_type": "markdown",
      "metadata": {
        "id": "oXyFC44jV-PP"
      },
      "source": [
        "\n",
        "\n",
        "# Boston housing prices - modeling\n",
        "In this notebook we will: \n",
        "* using Boston housing data (https://www.cs.toronto.edu/~delve/data/boston/bostonDetail.html)\n",
        "* exploring the data\n",
        "* creating a model\n",
        "* training the model\n",
        "* evaluation on test data\n",
        "* making predictions and regression plot\n",
        "\n",
        "Assigment: \n",
        "* please complete TODO parts\n"
      ]
    },
    {
      "cell_type": "code",
      "metadata": {
        "id": "jLX73EvBu9ms"
      },
      "source": [
        "import matplotlib.pyplot as plt\n",
        "import seaborn as sns\n",
        "import numpy as np\n",
        "import pandas as pd\n",
        "import matplotlib.pyplot as plt \n",
        "from sklearn import preprocessing\n",
        "from sklearn.datasets import load_boston"
      ],
      "execution_count": null,
      "outputs": []
    },
    {
      "cell_type": "code",
      "metadata": {
        "id": "Ba-K0MyGoNay"
      },
      "source": [
        "# <TODO> Keras imports : model, layers, optimizers\n",
        "import tensorflow as tf\n",
        "from tensorflow.keras.models import Sequential\n",
        "from tensorflow.keras.layers import Dense\n",
        "from tensorflow.keras.optimizers import Adam\n",
        "from tensorflow.keras.callbacks import EarlyStopping #, TensorBoard"
      ],
      "execution_count": null,
      "outputs": []
    },
    {
      "cell_type": "code",
      "metadata": {
        "id": "K5uDujeqviOH"
      },
      "source": [
        "# load Boston Housing dataset\n",
        "X, Y = load_boston(return_X_y=True)\n",
        "nb_samples = X.shape[0]"
      ],
      "execution_count": null,
      "outputs": []
    },
    {
      "cell_type": "markdown",
      "metadata": {
        "id": "sS7xCTZioeIK"
      },
      "source": [
        "Splitting data into training, validation and test sets:"
      ]
    },
    {
      "cell_type": "code",
      "metadata": {
        "id": "YWUhEmcaoYeW"
      },
      "source": [
        "valid_split = 0.2\n",
        "test_split  = 0.1\n",
        "\n",
        "# array index boundary\n",
        "v_point = int(X.shape[0]*(1-valid_split-test_split))\n",
        "t_point = int(X.shape[0]*(1-test_split))\n",
        "\n",
        "X_train = X[:t_point]\n",
        "Y_train = Y[:t_point]\n",
        "X_valid = X[v_point:t_point]\n",
        "Y_valid = Y[v_point:t_point]\n",
        "X_test  = X[t_point:]\n",
        "Y_test  = Y[t_point:]"
      ],
      "execution_count": null,
      "outputs": []
    },
    {
      "cell_type": "markdown",
      "metadata": {
        "id": "n6awn-6uogmo"
      },
      "source": [
        "Standardization of the data:"
      ]
    },
    {
      "cell_type": "code",
      "metadata": {
        "id": "XSNawE7Zob_Y"
      },
      "source": [
        "scaler  = preprocessing.StandardScaler().fit(X_train)\n",
        "X_train = scaler.transform(X_train)\n",
        "X_valid = scaler.transform(X_valid)\n",
        "X_test  = scaler.transform(X_test)"
      ],
      "execution_count": null,
      "outputs": []
    },
    {
      "cell_type": "markdown",
      "metadata": {
        "id": "MpBJFHZvu9m2"
      },
      "source": [
        "Defining the model (with one or two hidden layers and 8-64 neurons / layer, the input and output layers' sizes are defined by the data):"
      ]
    },
    {
      "cell_type": "code",
      "metadata": {
        "id": "flEY3-qBorvA"
      },
      "source": [
        "model = Sequential()\n",
        "#<TODO>  model.add(....)\n",
        "\n",
        "# input layer\n",
        "model.add(Dense(nb_samples, input_shape=(X_train.shape[1],), \n",
        "                activation='relu', kernel_initializer='he_normal'))\n",
        "\n",
        "# hidden layers with 64 neurons\n",
        "model.add(Dense(64, activation='relu', kernel_initializer='he_normal'))\n",
        "model.add(Dense(64, activation='relu', kernel_initializer='he_normal'))\n",
        "\n",
        "# output layer\n",
        "model.add(Dense(nb_samples, activation='softmax')) # output"
      ],
      "execution_count": null,
      "outputs": []
    },
    {
      "cell_type": "markdown",
      "metadata": {
        "id": "efZ6M0Yh3WlT"
      },
      "source": [
        "Inspect the model summary:"
      ]
    },
    {
      "cell_type": "code",
      "metadata": {
        "id": "LhfnanAm3X9l",
        "colab": {
          "base_uri": "https://localhost:8080/"
        },
        "outputId": "ef86383d-0c5a-48a5-f096-186559a615d1"
      },
      "source": [
        "model.summary()"
      ],
      "execution_count": null,
      "outputs": [
        {
          "output_type": "stream",
          "name": "stdout",
          "text": [
            "Model: \"sequential\"\n",
            "_________________________________________________________________\n",
            "Layer (type)                 Output Shape              Param #   \n",
            "=================================================================\n",
            "dense (Dense)                (None, 506)               7084      \n",
            "_________________________________________________________________\n",
            "dense_1 (Dense)              (None, 64)                32448     \n",
            "_________________________________________________________________\n",
            "dense_2 (Dense)              (None, 64)                4160      \n",
            "_________________________________________________________________\n",
            "dense_3 (Dense)              (None, 506)               32890     \n",
            "=================================================================\n",
            "Total params: 76,582\n",
            "Trainable params: 76,582\n",
            "Non-trainable params: 0\n",
            "_________________________________________________________________\n"
          ]
        }
      ]
    },
    {
      "cell_type": "markdown",
      "metadata": {
        "id": "h3hCd6Cf3ZS1"
      },
      "source": [
        "Number of trainable parameters in the model: TODO"
      ]
    },
    {
      "cell_type": "markdown",
      "metadata": {
        "id": "ibjhW3pAoveO"
      },
      "source": [
        "Compiling the model:"
      ]
    },
    {
      "cell_type": "code",
      "metadata": {
        "id": "ztxln4VUow5q",
        "colab": {
          "base_uri": "https://localhost:8080/"
        },
        "outputId": "176aaab9-0571-4bee-cd31-09df23077f83"
      },
      "source": [
        "#model.compile(<TODO>)\n",
        "model.compile(loss='mse', optimizer=Adam(lr=0.01), metrics=['accuracy'])"
      ],
      "execution_count": null,
      "outputs": [
        {
          "output_type": "stream",
          "name": "stderr",
          "text": [
            "/usr/local/lib/python3.7/dist-packages/keras/optimizer_v2/optimizer_v2.py:356: UserWarning: The `lr` argument is deprecated, use `learning_rate` instead.\n",
            "  \"The `lr` argument is deprecated, use `learning_rate` instead.\")\n"
          ]
        }
      ]
    },
    {
      "cell_type": "markdown",
      "metadata": {
        "id": "zfmN2ROJo4xq"
      },
      "source": [
        "Defining the earlystopping callback function:"
      ]
    },
    {
      "cell_type": "code",
      "metadata": {
        "id": "fhQMRIhio3Js"
      },
      "source": [
        "es = EarlyStopping(monitor='val_loss', \n",
        "                   patience=20, verbose=1,\n",
        "                   restore_best_weights=True)"
      ],
      "execution_count": null,
      "outputs": []
    },
    {
      "cell_type": "markdown",
      "metadata": {
        "id": "JqJNQCtB2k08"
      },
      "source": [
        "Train the model, use training and validation data and apply early stopping:"
      ]
    },
    {
      "cell_type": "code",
      "metadata": {
        "id": "oWDGwe862kQj",
        "colab": {
          "base_uri": "https://localhost:8080/"
        },
        "outputId": "ddfbe71d-149d-4a53-8c9e-3fa5be3def13"
      },
      "source": [
        "model.fit(X_train, Y_train, epochs=100000, \n",
        "          callbacks=[es],\n",
        "          batch_size=64, shuffle=True,  \n",
        "          validation_data=(X_valid, Y_valid))"
      ],
      "execution_count": null,
      "outputs": [
        {
          "output_type": "stream",
          "name": "stdout",
          "text": [
            "Epoch 1/100000\n",
            "8/8 [==============================] - 1s 27ms/step - loss: 617.0380 - accuracy: 0.0000e+00 - val_loss: 330.8591 - val_accuracy: 0.0000e+00\n",
            "Epoch 2/100000\n",
            "8/8 [==============================] - 0s 8ms/step - loss: 617.0380 - accuracy: 0.0000e+00 - val_loss: 330.8591 - val_accuracy: 0.0000e+00\n",
            "Epoch 3/100000\n",
            "8/8 [==============================] - 0s 6ms/step - loss: 617.0380 - accuracy: 0.0000e+00 - val_loss: 330.8591 - val_accuracy: 0.0000e+00\n",
            "Epoch 4/100000\n",
            "8/8 [==============================] - 0s 6ms/step - loss: 617.0380 - accuracy: 0.0000e+00 - val_loss: 330.8591 - val_accuracy: 0.0000e+00\n",
            "Epoch 5/100000\n",
            "8/8 [==============================] - 0s 8ms/step - loss: 617.0380 - accuracy: 0.0000e+00 - val_loss: 330.8591 - val_accuracy: 0.0000e+00\n",
            "Epoch 6/100000\n",
            "8/8 [==============================] - 0s 7ms/step - loss: 617.0380 - accuracy: 0.0000e+00 - val_loss: 330.8591 - val_accuracy: 0.0000e+00\n",
            "Epoch 7/100000\n",
            "8/8 [==============================] - 0s 7ms/step - loss: 617.0380 - accuracy: 0.0000e+00 - val_loss: 330.8591 - val_accuracy: 0.0000e+00\n",
            "Epoch 8/100000\n",
            "8/8 [==============================] - 0s 8ms/step - loss: 617.0380 - accuracy: 0.0000e+00 - val_loss: 330.8591 - val_accuracy: 0.0000e+00\n",
            "Epoch 9/100000\n",
            "8/8 [==============================] - 0s 7ms/step - loss: 617.0380 - accuracy: 0.0000e+00 - val_loss: 330.8591 - val_accuracy: 0.0000e+00\n",
            "Epoch 10/100000\n",
            "8/8 [==============================] - 0s 7ms/step - loss: 617.0380 - accuracy: 0.0000e+00 - val_loss: 330.8591 - val_accuracy: 0.0000e+00\n",
            "Epoch 11/100000\n",
            "8/8 [==============================] - 0s 6ms/step - loss: 617.0380 - accuracy: 0.0000e+00 - val_loss: 330.8591 - val_accuracy: 0.0000e+00\n",
            "Epoch 12/100000\n",
            "8/8 [==============================] - 0s 8ms/step - loss: 617.0380 - accuracy: 0.0000e+00 - val_loss: 330.8591 - val_accuracy: 0.0000e+00\n",
            "Epoch 13/100000\n",
            "8/8 [==============================] - 0s 7ms/step - loss: 617.0380 - accuracy: 0.0000e+00 - val_loss: 330.8591 - val_accuracy: 0.0000e+00\n",
            "Epoch 14/100000\n",
            "8/8 [==============================] - 0s 7ms/step - loss: 617.0380 - accuracy: 0.0000e+00 - val_loss: 330.8591 - val_accuracy: 0.0000e+00\n",
            "Epoch 15/100000\n",
            "8/8 [==============================] - 0s 7ms/step - loss: 617.0380 - accuracy: 0.0000e+00 - val_loss: 330.8591 - val_accuracy: 0.0000e+00\n",
            "Epoch 16/100000\n",
            "8/8 [==============================] - 0s 7ms/step - loss: 617.0380 - accuracy: 0.0000e+00 - val_loss: 330.8591 - val_accuracy: 0.0000e+00\n",
            "Epoch 17/100000\n",
            "8/8 [==============================] - 0s 7ms/step - loss: 617.0380 - accuracy: 0.0000e+00 - val_loss: 330.8591 - val_accuracy: 0.0000e+00\n",
            "Epoch 18/100000\n",
            "8/8 [==============================] - 0s 8ms/step - loss: 617.0380 - accuracy: 0.0000e+00 - val_loss: 330.8591 - val_accuracy: 0.0000e+00\n",
            "Epoch 19/100000\n",
            "8/8 [==============================] - 0s 8ms/step - loss: 617.0380 - accuracy: 0.0000e+00 - val_loss: 330.8591 - val_accuracy: 0.0000e+00\n",
            "Epoch 20/100000\n",
            "8/8 [==============================] - 0s 7ms/step - loss: 617.0380 - accuracy: 0.0000e+00 - val_loss: 330.8591 - val_accuracy: 0.0000e+00\n",
            "Epoch 21/100000\n",
            "8/8 [==============================] - 0s 6ms/step - loss: 617.0380 - accuracy: 0.0000e+00 - val_loss: 330.8591 - val_accuracy: 0.0000e+00\n",
            "Restoring model weights from the end of the best epoch.\n",
            "Epoch 00021: early stopping\n"
          ]
        },
        {
          "output_type": "execute_result",
          "data": {
            "text/plain": [
              "<keras.callbacks.History at 0x7fbbd29a40d0>"
            ]
          },
          "metadata": {},
          "execution_count": 20
        }
      ]
    },
    {
      "cell_type": "markdown",
      "metadata": {
        "id": "pCaNGjzQ2m9D"
      },
      "source": [
        "Evaluate on the test data:"
      ]
    },
    {
      "cell_type": "code",
      "metadata": {
        "id": "_MDJut_b3-6Q",
        "colab": {
          "base_uri": "https://localhost:8080/"
        },
        "outputId": "1352e6a0-69e6-4aee-900c-c2d771e75137"
      },
      "source": [
        "model.evaluate(X_test, Y_test)"
      ],
      "execution_count": null,
      "outputs": [
        {
          "output_type": "stream",
          "name": "stdout",
          "text": [
            "2/2 [==============================] - 0s 7ms/step - loss: 369.1959 - accuracy: 0.0000e+00\n"
          ]
        },
        {
          "output_type": "execute_result",
          "data": {
            "text/plain": [
              "[369.19586181640625, 0.0]"
            ]
          },
          "metadata": {},
          "execution_count": 21
        }
      ]
    },
    {
      "cell_type": "markdown",
      "metadata": {
        "id": "Gtd_UnfN4TPP"
      },
      "source": [
        "Make predictions:"
      ]
    },
    {
      "cell_type": "code",
      "metadata": {
        "id": "OhghFnnf4VA1"
      },
      "source": [
        "preds = model.predict(X_test)"
      ],
      "execution_count": null,
      "outputs": []
    },
    {
      "cell_type": "markdown",
      "metadata": {
        "id": "cZkVPySYAddP"
      },
      "source": [
        "Inspecting the result on a regression plot:"
      ]
    },
    {
      "cell_type": "code",
      "metadata": {
        "id": "Uzv3YtGlAcl6",
        "colab": {
          "base_uri": "https://localhost:8080/",
          "height": 432
        },
        "outputId": "4678b596-e089-40c3-9a26-4719fc7fa2a6"
      },
      "source": [
        "plt.figure(figsize=(10,10))\n",
        "sns.regplot(x=Y_test.reshape(-1), y=preds.reshape(-1)).set(xlim=(5,30),ylim=(5,30)); "
      ],
      "execution_count": null,
      "outputs": [
        {
          "output_type": "error",
          "ename": "ValueError",
          "evalue": "ignored",
          "traceback": [
            "\u001b[0;31m---------------------------------------------------------------------------\u001b[0m",
            "\u001b[0;31mValueError\u001b[0m                                Traceback (most recent call last)",
            "\u001b[0;32m<ipython-input-25-3e8ff458efc4>\u001b[0m in \u001b[0;36m<module>\u001b[0;34m()\u001b[0m\n\u001b[1;32m      1\u001b[0m \u001b[0mplt\u001b[0m\u001b[0;34m.\u001b[0m\u001b[0mfigure\u001b[0m\u001b[0;34m(\u001b[0m\u001b[0mfigsize\u001b[0m\u001b[0;34m=\u001b[0m\u001b[0;34m(\u001b[0m\u001b[0;36m10\u001b[0m\u001b[0;34m,\u001b[0m\u001b[0;36m10\u001b[0m\u001b[0;34m)\u001b[0m\u001b[0;34m)\u001b[0m\u001b[0;34m\u001b[0m\u001b[0;34m\u001b[0m\u001b[0m\n\u001b[0;32m----> 2\u001b[0;31m \u001b[0msns\u001b[0m\u001b[0;34m.\u001b[0m\u001b[0mregplot\u001b[0m\u001b[0;34m(\u001b[0m\u001b[0mx\u001b[0m\u001b[0;34m=\u001b[0m\u001b[0mY_test\u001b[0m\u001b[0;34m.\u001b[0m\u001b[0mreshape\u001b[0m\u001b[0;34m(\u001b[0m\u001b[0;34m-\u001b[0m\u001b[0;36m1\u001b[0m\u001b[0;34m)\u001b[0m\u001b[0;34m,\u001b[0m \u001b[0my\u001b[0m\u001b[0;34m=\u001b[0m\u001b[0mpreds\u001b[0m\u001b[0;34m.\u001b[0m\u001b[0mreshape\u001b[0m\u001b[0;34m(\u001b[0m\u001b[0;34m-\u001b[0m\u001b[0;36m1\u001b[0m\u001b[0;34m)\u001b[0m\u001b[0;34m)\u001b[0m\u001b[0;34m.\u001b[0m\u001b[0mset\u001b[0m\u001b[0;34m(\u001b[0m\u001b[0mxlim\u001b[0m\u001b[0;34m=\u001b[0m\u001b[0;34m(\u001b[0m\u001b[0;36m5\u001b[0m\u001b[0;34m,\u001b[0m\u001b[0;36m30\u001b[0m\u001b[0;34m)\u001b[0m\u001b[0;34m,\u001b[0m\u001b[0mylim\u001b[0m\u001b[0;34m=\u001b[0m\u001b[0;34m(\u001b[0m\u001b[0;36m5\u001b[0m\u001b[0;34m,\u001b[0m\u001b[0;36m30\u001b[0m\u001b[0;34m)\u001b[0m\u001b[0;34m)\u001b[0m\u001b[0;34m;\u001b[0m\u001b[0;34m\u001b[0m\u001b[0;34m\u001b[0m\u001b[0m\n\u001b[0m",
            "\u001b[0;32m/usr/local/lib/python3.7/dist-packages/seaborn/_decorators.py\u001b[0m in \u001b[0;36minner_f\u001b[0;34m(*args, **kwargs)\u001b[0m\n\u001b[1;32m     44\u001b[0m             )\n\u001b[1;32m     45\u001b[0m         \u001b[0mkwargs\u001b[0m\u001b[0;34m.\u001b[0m\u001b[0mupdate\u001b[0m\u001b[0;34m(\u001b[0m\u001b[0;34m{\u001b[0m\u001b[0mk\u001b[0m\u001b[0;34m:\u001b[0m \u001b[0marg\u001b[0m \u001b[0;32mfor\u001b[0m \u001b[0mk\u001b[0m\u001b[0;34m,\u001b[0m \u001b[0marg\u001b[0m \u001b[0;32min\u001b[0m \u001b[0mzip\u001b[0m\u001b[0;34m(\u001b[0m\u001b[0msig\u001b[0m\u001b[0;34m.\u001b[0m\u001b[0mparameters\u001b[0m\u001b[0;34m,\u001b[0m \u001b[0margs\u001b[0m\u001b[0;34m)\u001b[0m\u001b[0;34m}\u001b[0m\u001b[0;34m)\u001b[0m\u001b[0;34m\u001b[0m\u001b[0;34m\u001b[0m\u001b[0m\n\u001b[0;32m---> 46\u001b[0;31m         \u001b[0;32mreturn\u001b[0m \u001b[0mf\u001b[0m\u001b[0;34m(\u001b[0m\u001b[0;34m**\u001b[0m\u001b[0mkwargs\u001b[0m\u001b[0;34m)\u001b[0m\u001b[0;34m\u001b[0m\u001b[0;34m\u001b[0m\u001b[0m\n\u001b[0m\u001b[1;32m     47\u001b[0m     \u001b[0;32mreturn\u001b[0m \u001b[0minner_f\u001b[0m\u001b[0;34m\u001b[0m\u001b[0;34m\u001b[0m\u001b[0m\n\u001b[1;32m     48\u001b[0m \u001b[0;34m\u001b[0m\u001b[0m\n",
            "\u001b[0;32m/usr/local/lib/python3.7/dist-packages/seaborn/regression.py\u001b[0m in \u001b[0;36mregplot\u001b[0;34m(x, y, data, x_estimator, x_bins, x_ci, scatter, fit_reg, ci, n_boot, units, seed, order, logistic, lowess, robust, logx, x_partial, y_partial, truncate, dropna, x_jitter, y_jitter, label, color, marker, scatter_kws, line_kws, ax)\u001b[0m\n\u001b[1;32m    853\u001b[0m                                  \u001b[0morder\u001b[0m\u001b[0;34m,\u001b[0m \u001b[0mlogistic\u001b[0m\u001b[0;34m,\u001b[0m \u001b[0mlowess\u001b[0m\u001b[0;34m,\u001b[0m \u001b[0mrobust\u001b[0m\u001b[0;34m,\u001b[0m \u001b[0mlogx\u001b[0m\u001b[0;34m,\u001b[0m\u001b[0;34m\u001b[0m\u001b[0;34m\u001b[0m\u001b[0m\n\u001b[1;32m    854\u001b[0m                                  \u001b[0mx_partial\u001b[0m\u001b[0;34m,\u001b[0m \u001b[0my_partial\u001b[0m\u001b[0;34m,\u001b[0m \u001b[0mtruncate\u001b[0m\u001b[0;34m,\u001b[0m \u001b[0mdropna\u001b[0m\u001b[0;34m,\u001b[0m\u001b[0;34m\u001b[0m\u001b[0;34m\u001b[0m\u001b[0m\n\u001b[0;32m--> 855\u001b[0;31m                                  x_jitter, y_jitter, color, label)\n\u001b[0m\u001b[1;32m    856\u001b[0m \u001b[0;34m\u001b[0m\u001b[0m\n\u001b[1;32m    857\u001b[0m     \u001b[0;32mif\u001b[0m \u001b[0max\u001b[0m \u001b[0;32mis\u001b[0m \u001b[0;32mNone\u001b[0m\u001b[0;34m:\u001b[0m\u001b[0;34m\u001b[0m\u001b[0;34m\u001b[0m\u001b[0m\n",
            "\u001b[0;32m/usr/local/lib/python3.7/dist-packages/seaborn/regression.py\u001b[0m in \u001b[0;36m__init__\u001b[0;34m(self, x, y, data, x_estimator, x_bins, x_ci, scatter, fit_reg, ci, n_boot, units, seed, order, logistic, lowess, robust, logx, x_partial, y_partial, truncate, dropna, x_jitter, y_jitter, color, label)\u001b[0m\n\u001b[1;32m    112\u001b[0m         \u001b[0;31m# Drop null observations\u001b[0m\u001b[0;34m\u001b[0m\u001b[0;34m\u001b[0m\u001b[0;34m\u001b[0m\u001b[0m\n\u001b[1;32m    113\u001b[0m         \u001b[0;32mif\u001b[0m \u001b[0mdropna\u001b[0m\u001b[0;34m:\u001b[0m\u001b[0;34m\u001b[0m\u001b[0;34m\u001b[0m\u001b[0m\n\u001b[0;32m--> 114\u001b[0;31m             \u001b[0mself\u001b[0m\u001b[0;34m.\u001b[0m\u001b[0mdropna\u001b[0m\u001b[0;34m(\u001b[0m\u001b[0;34m\"x\"\u001b[0m\u001b[0;34m,\u001b[0m \u001b[0;34m\"y\"\u001b[0m\u001b[0;34m,\u001b[0m \u001b[0;34m\"units\"\u001b[0m\u001b[0;34m,\u001b[0m \u001b[0;34m\"x_partial\"\u001b[0m\u001b[0;34m,\u001b[0m \u001b[0;34m\"y_partial\"\u001b[0m\u001b[0;34m)\u001b[0m\u001b[0;34m\u001b[0m\u001b[0;34m\u001b[0m\u001b[0m\n\u001b[0m\u001b[1;32m    115\u001b[0m \u001b[0;34m\u001b[0m\u001b[0m\n\u001b[1;32m    116\u001b[0m         \u001b[0;31m# Regress nuisance variables out of the data\u001b[0m\u001b[0;34m\u001b[0m\u001b[0;34m\u001b[0m\u001b[0;34m\u001b[0m\u001b[0m\n",
            "\u001b[0;32m/usr/local/lib/python3.7/dist-packages/seaborn/regression.py\u001b[0m in \u001b[0;36mdropna\u001b[0;34m(self, *vars)\u001b[0m\n\u001b[1;32m     60\u001b[0m         \u001b[0mvals\u001b[0m \u001b[0;34m=\u001b[0m \u001b[0;34m[\u001b[0m\u001b[0mgetattr\u001b[0m\u001b[0;34m(\u001b[0m\u001b[0mself\u001b[0m\u001b[0;34m,\u001b[0m \u001b[0mvar\u001b[0m\u001b[0;34m)\u001b[0m \u001b[0;32mfor\u001b[0m \u001b[0mvar\u001b[0m \u001b[0;32min\u001b[0m \u001b[0mvars\u001b[0m\u001b[0;34m]\u001b[0m\u001b[0;34m\u001b[0m\u001b[0;34m\u001b[0m\u001b[0m\n\u001b[1;32m     61\u001b[0m         \u001b[0mvals\u001b[0m \u001b[0;34m=\u001b[0m \u001b[0;34m[\u001b[0m\u001b[0mv\u001b[0m \u001b[0;32mfor\u001b[0m \u001b[0mv\u001b[0m \u001b[0;32min\u001b[0m \u001b[0mvals\u001b[0m \u001b[0;32mif\u001b[0m \u001b[0mv\u001b[0m \u001b[0;32mis\u001b[0m \u001b[0;32mnot\u001b[0m \u001b[0;32mNone\u001b[0m\u001b[0;34m]\u001b[0m\u001b[0;34m\u001b[0m\u001b[0;34m\u001b[0m\u001b[0m\n\u001b[0;32m---> 62\u001b[0;31m         \u001b[0mnot_na\u001b[0m \u001b[0;34m=\u001b[0m \u001b[0mnp\u001b[0m\u001b[0;34m.\u001b[0m\u001b[0mall\u001b[0m\u001b[0;34m(\u001b[0m\u001b[0mnp\u001b[0m\u001b[0;34m.\u001b[0m\u001b[0mcolumn_stack\u001b[0m\u001b[0;34m(\u001b[0m\u001b[0;34m[\u001b[0m\u001b[0mpd\u001b[0m\u001b[0;34m.\u001b[0m\u001b[0mnotnull\u001b[0m\u001b[0;34m(\u001b[0m\u001b[0mv\u001b[0m\u001b[0;34m)\u001b[0m \u001b[0;32mfor\u001b[0m \u001b[0mv\u001b[0m \u001b[0;32min\u001b[0m \u001b[0mvals\u001b[0m\u001b[0;34m]\u001b[0m\u001b[0;34m)\u001b[0m\u001b[0;34m,\u001b[0m \u001b[0maxis\u001b[0m\u001b[0;34m=\u001b[0m\u001b[0;36m1\u001b[0m\u001b[0;34m)\u001b[0m\u001b[0;34m\u001b[0m\u001b[0;34m\u001b[0m\u001b[0m\n\u001b[0m\u001b[1;32m     63\u001b[0m         \u001b[0;32mfor\u001b[0m \u001b[0mvar\u001b[0m \u001b[0;32min\u001b[0m \u001b[0mvars\u001b[0m\u001b[0;34m:\u001b[0m\u001b[0;34m\u001b[0m\u001b[0;34m\u001b[0m\u001b[0m\n\u001b[1;32m     64\u001b[0m             \u001b[0mval\u001b[0m \u001b[0;34m=\u001b[0m \u001b[0mgetattr\u001b[0m\u001b[0;34m(\u001b[0m\u001b[0mself\u001b[0m\u001b[0;34m,\u001b[0m \u001b[0mvar\u001b[0m\u001b[0;34m)\u001b[0m\u001b[0;34m\u001b[0m\u001b[0;34m\u001b[0m\u001b[0m\n",
            "\u001b[0;32m<__array_function__ internals>\u001b[0m in \u001b[0;36mcolumn_stack\u001b[0;34m(*args, **kwargs)\u001b[0m\n",
            "\u001b[0;32m/usr/local/lib/python3.7/dist-packages/numpy/lib/shape_base.py\u001b[0m in \u001b[0;36mcolumn_stack\u001b[0;34m(tup)\u001b[0m\n\u001b[1;32m    654\u001b[0m             \u001b[0marr\u001b[0m \u001b[0;34m=\u001b[0m \u001b[0marray\u001b[0m\u001b[0;34m(\u001b[0m\u001b[0marr\u001b[0m\u001b[0;34m,\u001b[0m \u001b[0mcopy\u001b[0m\u001b[0;34m=\u001b[0m\u001b[0;32mFalse\u001b[0m\u001b[0;34m,\u001b[0m \u001b[0msubok\u001b[0m\u001b[0;34m=\u001b[0m\u001b[0;32mTrue\u001b[0m\u001b[0;34m,\u001b[0m \u001b[0mndmin\u001b[0m\u001b[0;34m=\u001b[0m\u001b[0;36m2\u001b[0m\u001b[0;34m)\u001b[0m\u001b[0;34m.\u001b[0m\u001b[0mT\u001b[0m\u001b[0;34m\u001b[0m\u001b[0;34m\u001b[0m\u001b[0m\n\u001b[1;32m    655\u001b[0m         \u001b[0marrays\u001b[0m\u001b[0;34m.\u001b[0m\u001b[0mappend\u001b[0m\u001b[0;34m(\u001b[0m\u001b[0marr\u001b[0m\u001b[0;34m)\u001b[0m\u001b[0;34m\u001b[0m\u001b[0;34m\u001b[0m\u001b[0m\n\u001b[0;32m--> 656\u001b[0;31m     \u001b[0;32mreturn\u001b[0m \u001b[0m_nx\u001b[0m\u001b[0;34m.\u001b[0m\u001b[0mconcatenate\u001b[0m\u001b[0;34m(\u001b[0m\u001b[0marrays\u001b[0m\u001b[0;34m,\u001b[0m \u001b[0;36m1\u001b[0m\u001b[0;34m)\u001b[0m\u001b[0;34m\u001b[0m\u001b[0;34m\u001b[0m\u001b[0m\n\u001b[0m\u001b[1;32m    657\u001b[0m \u001b[0;34m\u001b[0m\u001b[0m\n\u001b[1;32m    658\u001b[0m \u001b[0;34m\u001b[0m\u001b[0m\n",
            "\u001b[0;32m<__array_function__ internals>\u001b[0m in \u001b[0;36mconcatenate\u001b[0;34m(*args, **kwargs)\u001b[0m\n",
            "\u001b[0;31mValueError\u001b[0m: all the input array dimensions for the concatenation axis must match exactly, but along dimension 0, the array at index 0 has size 51 and the array at index 1 has size 25806"
          ]
        },
        {
          "output_type": "display_data",
          "data": {
            "text/plain": [
              "<Figure size 720x720 with 0 Axes>"
            ]
          },
          "metadata": {}
        }
      ]
    }
  ]
}